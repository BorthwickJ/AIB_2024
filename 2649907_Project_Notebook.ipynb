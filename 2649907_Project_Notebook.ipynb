{
 "cells": [
  {
   "cell_type": "markdown",
   "id": "7e000595",
   "metadata": {},
   "source": [
    "# Chosen Object\n",
    "\n",
    "The object that I chose to interact with in my project is the “Journal of a continental tour.” It was written between 1867 and 1868 and is currently available at the University of Glasgow archives. Access to the journal can be achieved by going to the special collections section of the University of Glasgow website, where meetings can be arranged to see the journal in person. Currently, there is no digitised version of the travel journal available."
   ]
  },
  {
   "cell_type": "markdown",
   "id": "9caf389b",
   "metadata": {},
   "source": [
    "### Content within the journal \n",
    "\n",
    "The journal itself contains snippets of text, hand drawings with colour, and images taken all whilst the writer travels through Europe. The handwriting present in the journal is quite hard to decipher, however a transcript is available which makes interacting with the journal much easier. The writing style is humorous and provides detail of both travel in the 19th century but also an insight into the different cultures of the time. "
   ]
  },
  {
   "cell_type": "markdown",
   "id": "b91061e3",
   "metadata": {},
   "source": [
    "### Background on travel of the 19th century\n",
    "\n",
    "Travel in the 19th century differs greatly to travel nowadays.  In the late 19th century, the main form of travel was by lakes, rivers, and oceans. Roads were very different to what they are now as it was mainly horses that went on them, as cars weren’t invented until the later 19th century, after the timeframe of the travel journal. My video gives insight to these differences in travel. \n"
   ]
  },
  {
   "cell_type": "markdown",
   "id": "1e55e600",
   "metadata": {},
   "source": [
    "### What is my project?\n",
    "For my project I decided upon a video, using both AI and human creativity.  For the main video, I used a software named Kaiber.AI. This software allows the user to upload images and prompts, to either generate a new image or animate an image. After using the software, I edited the individual clips together myself, reinforcing the connection between AI and human creativity. The reasoning for choosing this software was because it allowed me to show how AI can be positively used to enhance older writings. By using software’s like Kaiber.AI it allows for older writings to be more easily interacted with. Creating videos, images, and sounds allows for a wider range of audience to interact and see important older documents. "
   ]
  },
  {
   "cell_type": "markdown",
   "id": "baaaf4e3",
   "metadata": {},
   "source": [
    "### Objectives\n",
    "\n",
    "When carrying out this project, one aim was to firstly highlight the difference in travel of the 19th century compared to now. By highlighting what travel, and people, were like during this time allowing for the audience to compare with their own experiences."
   ]
  },
  {
   "cell_type": "markdown",
   "id": "8bcc1ea7",
   "metadata": {},
   "source": [
    "The second, and main, objective that I wanted to highlight and show the audience of my project is the potential that generative AI models have in interacting with collections. Numerous types of generative AI software’s can be used to enhance these crucial collections and bring a new perspective to them. Also, due to the nature of the results of software’s like Kaiber and Dall-E, can bring new audiences and age groups to interact with these objects."
   ]
  },
  {
   "cell_type": "markdown",
   "id": "ff0adb76",
   "metadata": {},
   "source": [
    "# Methodology\n",
    "\n",
    "Initially, I looked at the journal in person via the special collections at University of Glasgow. After reading the transcript of the journal and looking at the images and pictures present within it, I then decided upon my method of digitisation. At first, taking images of the pages was my preferred method, however after discussion with peers I decided upon using [Adobes scanner app](https://www.adobe.com/uk/acrobat/mobile/scanner-app.html#:~:text=Adobe%20Scan%20uses%20AI%20to,editable%2C%20searchable%20PDF%20files%20instantly.) which scanned the page and created a digital PDF of each page. Not only was this a higher quality than taking direct pictures of the page, but also made it much easier when interacting with generative AI models due to the digitised versions being clearer. "
   ]
  },
  {
   "cell_type": "markdown",
   "id": "00faf7ee",
   "metadata": {},
   "source": [
    "After the initial scanning of the journal, I then utilised Kaiber.AI, a generative AI model that is used to create animations and videos using prompts. The software which I used, Kaiber.AI uses neural network algorithms, transformers and GANS to generate the images. The software is still in beta however, so the results are not always perfect. "
   ]
  },
  {
   "cell_type": "markdown",
   "id": "dded4ade",
   "metadata": {},
   "source": [
    "### Propmpts within Kaiber.Ai\n",
    "\n",
    "Here is an example of how I used the prompts in Kaiber.AI. This is the prompt used for the ink drawing of the 3 people who are seasick on the boat. The software allows for 2 sections to input prompts the first section starts with an automated sentence that you fill in. \n",
    "\n",
    "\n",
    "•\tI want a video of\n",
    "\n",
    "\n",
    "I then inputted the following sentence:\n",
    "\n",
    "\n",
    "•\tpeople being seasick over the side of a railing on a boat\n",
    "\n",
    "\n",
    "For the second prompt, it asks what style you want your animation to be in\n",
    "\n",
    "\n",
    "•\tIn the style of  \n",
    "\n",
    "\n",
    "To which I inputted the prompt:\n",
    "\n",
    "\n",
    "•\tBlack and white hand drawing\n"
   ]
  },
  {
   "cell_type": "markdown",
   "id": "2a2b456f",
   "metadata": {},
   "source": [
    "Another example of a prompt used was for the drawing of the man with the moustache. I followed a similar simplicity to that of the seasick drawing:\n",
    "\n",
    "•\tI want a video of  \n",
    "•\tA man with a moustache turning his head\n",
    "\n",
    "And for the second prompt, I inputted the following. \n",
    "\n",
    "•\tIn the style of \n",
    "\n",
    "•\tBlack and white hand drawing\n"
   ]
  },
  {
   "cell_type": "markdown",
   "id": "1e8a43a5",
   "metadata": {},
   "source": [
    "I found that using simpler prompts with the software provided a much better image than that of complex prompts. This is a common theme I’ve found in generative AI models, so I take the approach that less is more, in reference to prompts.\n",
    "Using prompts solidified the relationship between AI and human input during the creative process, Although the AI model generated the image, it did so using the prompts provided by myself. \n"
   ]
  },
  {
   "cell_type": "markdown",
   "id": "ceed866e",
   "metadata": {},
   "source": [
    "### Editing it all together\n",
    "\n",
    "After using the Kaiber.AI, I needed to edit the small clips it generated together. At first, I was going to use an AI assistant to help do this. I changed my decision as I felt that this would make the project too focused on AI and would diminish the collaboration between AI and humans. The editing of the clips was done by me with no AI help so that the project would have sufficient input from both the AI generative model and humans, in this case myself. "
   ]
  },
  {
   "cell_type": "markdown",
   "id": "c67ffa95",
   "metadata": {},
   "source": [
    "### Adding Audio\n",
    "\n",
    "The final step taken was to use text to speech AI to read out the text in the journal. Typically, these types of AI models work using neural networks and machine learning to match spoken words to and patterns to voice recordings done by humans. I used a variety of voices in the project to show how clear AI voice text to speech is. "
   ]
  },
  {
   "cell_type": "markdown",
   "id": "144576fc",
   "metadata": {},
   "source": [
    "\n"
   ]
  },
  {
   "attachments": {},
   "cell_type": "markdown",
   "id": "53120f11",
   "metadata": {},
   "source": [
    "Kaiber.AI was the perfect tool for my project, as I wanted to make the images animate and move. This software allowed for me to carry out this initial plan and successfully incorporate AI into my project. The software when used provided me with a sense of “surprise” that according to the Lovelace-Boden-Ridler Test, should not be possible by AI in the creative industry. Due to the way in which the images are created, the user does not know exactly what the output will give. An [article published by Wired](https://www.wired.com/story/picture-limitless-creativity-ai-image-generators/) talks about this in more detail."
   ]
  },
  {
   "attachments": {},
   "cell_type": "markdown",
   "id": "1870871e",
   "metadata": {},
   "source": [
    "# Outcome\n",
    "\n",
    "\n",
    "The results of my project are similar to that of the website coconuts bali. They [used generative AI to restore historical photographs of Bali from the National Museum of World Cultures](https://coconuts.co/bali/features/we-used-ai-to-enhance-colorize-historical-photos-of-bali-and-the-results-are-mindblowing/). Photographs from this collection were colorised and enhanced to a better quality Although not using quite the same method, the overall principal of using generative AI to enhance collections was the same. \n"
   ]
  },
  {
   "attachments": {},
   "cell_type": "markdown",
   "id": "8d2d9677",
   "metadata": {},
   "source": [
    "Overall, I would say that the outcome of my project was somewhat successful in meeting the objectives that I set out at the beginning. I did as plan, creating a video utilising generative AI software, Kaiber.Ai, which used the drawings and writings from the 19th century travel journal. The video displayed content from the journal in a new and refreshing way, focusing on the key aspects of the writer’s journey, and showed what travel was like in the 19th century. I would say that this aspect of my project was successful. "
   ]
  },
  {
   "attachments": {},
   "cell_type": "markdown",
   "id": "64d800a7",
   "metadata": {},
   "source": [
    "The second objective that I wanted to achieve was showcasing to the audience the possibilities of using generative AI models within the arts and humanities. I successfully used Kaiber.Ai and human collaboration to show this. By creating the animated versions of the sketches within the journal, I showed just a small glimpse of what is possible when using generative AI to interact an enhance collections or objects. \n",
    "\n",
    "However, a few of the images that were generated I wasn’t sufficiently happy with. I tried numerous different prompts and methods, but some of the animations still appeared “messy” and perhaps did not enhance the original image as planned. This is due to the software used still being in the beta stage and may be because the free version was used and not the paid premium. The text to speech AI used worked as expected and displayed correct results. For further development of my project, I would try and fix the animations that are not as good as the others."
   ]
  },
  {
   "cell_type": "markdown",
   "id": "0db6a140",
   "metadata": {},
   "source": [
    "# Final video available on GitHub"
   ]
  },
  {
   "cell_type": "code",
   "execution_count": null,
   "id": "0788922d",
   "metadata": {},
   "outputs": [],
   "source": []
  }
 ],
 "metadata": {
  "kernelspec": {
   "display_name": "Python 3 (ipykernel)",
   "language": "python",
   "name": "python3"
  },
  "language_info": {
   "codemirror_mode": {
    "name": "ipython",
    "version": 3
   },
   "file_extension": ".py",
   "mimetype": "text/x-python",
   "name": "python",
   "nbconvert_exporter": "python",
   "pygments_lexer": "ipython3",
   "version": "3.11.5"
  }
 },
 "nbformat": 4,
 "nbformat_minor": 5
}
